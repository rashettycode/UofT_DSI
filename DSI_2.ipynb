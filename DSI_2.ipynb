{
  "nbformat": 4,
  "nbformat_minor": 0,
  "metadata": {
    "colab": {
      "provenance": [],
      "authorship_tag": "ABX9TyO6eFFyRF6/Oe94yahd2jxU",
      "include_colab_link": true
    },
    "kernelspec": {
      "name": "python3",
      "display_name": "Python 3"
    },
    "language_info": {
      "name": "python"
    }
  },
  "cells": [
    {
      "cell_type": "markdown",
      "metadata": {
        "id": "view-in-github",
        "colab_type": "text"
      },
      "source": [
        "<a href=\"https://colab.research.google.com/github/rashettycode/UofT_DSI/blob/main/DSI_2.ipynb\" target=\"_parent\"><img src=\"https://colab.research.google.com/assets/colab-badge.svg\" alt=\"Open In Colab\"/></a>"
      ]
    },
    {
      "cell_type": "code",
      "execution_count": 1,
      "metadata": {
        "colab": {
          "base_uri": "https://localhost:8080/"
        },
        "id": "rFDInMaDWMh7",
        "outputId": "1e4023a8-b2ec-4ac7-dca5-56b48bf938de"
      },
      "outputs": [
        {
          "output_type": "stream",
          "name": "stdout",
          "text": [
            "Error with 1st, trying 2nd\n",
            "success from 2nd API\n",
            "{'avatar_url': 'https://avatars.githubusercontent.com/u/152226050?v=4',\n",
            " 'bio': None,\n",
            " 'blog': '',\n",
            " 'company': 'RS',\n",
            " 'created_at': '2023-11-27T21:57:48Z',\n",
            " 'email': None,\n",
            " 'events_url': 'https://api.github.com/users/rashettycode/events{/privacy}',\n",
            " 'followers': 0,\n",
            " 'followers_url': 'https://api.github.com/users/rashettycode/followers',\n",
            " 'following': 1,\n",
            " 'following_url': 'https://api.github.com/users/rashettycode/following{/other_user}',\n",
            " 'gists_url': 'https://api.github.com/users/rashettycode/gists{/gist_id}',\n",
            " 'gravatar_id': '',\n",
            " 'hireable': None,\n",
            " 'html_url': 'https://github.com/rashettycode',\n",
            " 'id': 152226050,\n",
            " 'location': None,\n",
            " 'login': 'rashettycode',\n",
            " 'name': 'RaShe1',\n",
            " 'node_id': 'U_kgDOCRLJAg',\n",
            " 'organizations_url': 'https://api.github.com/users/rashettycode/orgs',\n",
            " 'public_gists': 0,\n",
            " 'public_repos': 7,\n",
            " 'received_events_url': 'https://api.github.com/users/rashettycode/received_events',\n",
            " 'repos_url': 'https://api.github.com/users/rashettycode/repos',\n",
            " 'site_admin': False,\n",
            " 'starred_url': 'https://api.github.com/users/rashettycode/starred{/owner}{/repo}',\n",
            " 'subscriptions_url': 'https://api.github.com/users/rashettycode/subscriptions',\n",
            " 'twitter_username': None,\n",
            " 'type': 'User',\n",
            " 'updated_at': '2024-01-06T00:28:51Z',\n",
            " 'url': 'https://api.github.com/users/rashettycode'}\n",
            "Username: rashettycode\n",
            "Name: RaShe1\n"
          ]
        }
      ],
      "source": [
        "# API requests and error message with doc parameters\n",
        "import requests\n",
        "import json\n",
        "from pprint import pprint\n",
        "\n",
        "from google.colab import userdata\n",
        "\n",
        "\n",
        "def get_user_data() -> dict:\n",
        "  \"\"\" Get the authenticated user data object from GitHub.\n",
        "\n",
        "  Connect to the GitHub API and retrieve the authenticated users' data as Python dictionary.\n",
        "  The token is retrieved from the colab userdata system.\n",
        "\n",
        "  Parameters\n",
        "  ----------\n",
        "  None\n",
        "\n",
        "  Returns\n",
        "  -------\n",
        "  user_obj : dict\n",
        "    User data retrieved from GitHub\n",
        "\n",
        "  Examples\n",
        "  --------\n",
        "  user_obj = get_user_data()\n",
        "  pprint(user_obj)\n",
        "\n",
        "  {\n",
        "    'name': 'RASHE',\n",
        "    'login': 'rashettycode',\n",
        "    ...\n",
        "  }\n",
        "  \"\"\"\n",
        "\n",
        "  token = userdata.get('ghtoken')\n",
        "\n",
        "  main_api = 'https://pjfaoijeclawneoaiwjfeoiajwef.com'\n",
        "  backup_api = 'https://api.github.com'\n",
        "\n",
        "  try:\n",
        "    # get response from first API\n",
        "    response = requests.get(url=main_api + '/user',\n",
        "                            headers={'Authorization': 'Bearer ' + token})\n",
        "    print('success from first API')\n",
        "\n",
        "  except requests.exceptions.ConnectionError:\n",
        "    print('Error with 1st, trying 2nd')\n",
        "    # connection error to first API, let's try backup\n",
        "    response = requests.get(url=backup_api + '/user',\n",
        "                            headers={'Authorization': 'Bearer ' + token})\n",
        "    print('success from 2nd API')\n",
        "\n",
        "\n",
        "  # parse json\n",
        "  # response_json = json.loads(response.text)\n",
        "\n",
        "  return response.json()\n",
        "\n",
        "\n",
        "user_obj = get_user_data()\n",
        "\n",
        "pprint(user_obj)\n",
        "\n",
        "# print some values\n",
        "print('Username: ' + user_obj['login'])\n",
        "print('Name: ' + user_obj['name'])"
      ]
    },
    {
      "cell_type": "code",
      "source": [
        "!pip install requests\n",
        "\n"
      ],
      "metadata": {
        "colab": {
          "base_uri": "https://localhost:8080/"
        },
        "id": "qjFMz0TFYw7F",
        "outputId": "d053aa47-5afe-48fc-8c1f-f51e631a8573"
      },
      "execution_count": 6,
      "outputs": [
        {
          "output_type": "stream",
          "name": "stdout",
          "text": [
            "Requirement already satisfied: requests in /usr/local/lib/python3.10/dist-packages (2.31.0)\n",
            "Requirement already satisfied: charset-normalizer<4,>=2 in /usr/local/lib/python3.10/dist-packages (from requests) (3.3.2)\n",
            "Requirement already satisfied: idna<4,>=2.5 in /usr/local/lib/python3.10/dist-packages (from requests) (3.6)\n",
            "Requirement already satisfied: urllib3<3,>=1.21.1 in /usr/local/lib/python3.10/dist-packages (from requests) (2.0.7)\n",
            "Requirement already satisfied: certifi>=2017.4.17 in /usr/local/lib/python3.10/dist-packages (from requests) (2023.11.17)\n"
          ]
        }
      ]
    },
    {
      "cell_type": "code",
      "source": [
        "# Github public repositories message\n",
        "import requests\n",
        "\n",
        "def fetch_github_repos():\n",
        "    url = \"https://api.github.com/repositories\"\n",
        "\n",
        "    try:\n",
        "        response = requests.get(url)\n",
        "\n",
        "        if response.status_code == 200:\n",
        "            print(\"Successfully fetched public repositories.\")\n",
        "            # Process response here\n",
        "        else:\n",
        "            print(f\"Failed to fetch repositories: Status code {response.status_code}\")\n",
        "            print(\"Response:\", response.text)\n",
        "\n",
        "    except requests.RequestException as e:\n",
        "        print(f\"An error occurred while accessing the GitHub API: {e}\")\n",
        "\n",
        "# Call the function\n",
        "fetch_github_repos()\n"
      ],
      "metadata": {
        "colab": {
          "base_uri": "https://localhost:8080/"
        },
        "id": "Vp_xYuUnZF3b",
        "outputId": "9597d316-929a-4a4c-ba3d-486f1c00f72d"
      },
      "execution_count": 7,
      "outputs": [
        {
          "output_type": "stream",
          "name": "stdout",
          "text": [
            "Successfully fetched public repositories.\n"
          ]
        }
      ]
    },
    {
      "cell_type": "code",
      "source": [
        "import logging\n",
        "\n",
        "# configuration and configure logging to display DEBUG messages\n",
        "logging.basicConfig(force=True)\n",
        "logging.getLogger().setLevel(logging.DEBUG)\n",
        "\n",
        "def main():\n",
        "    # A debug message\n",
        "    logging.debug(\"This is a debug message\")\n",
        "\n",
        "    # Rest of the code\n",
        "    logging.info(\"This is an informational message\")\n",
        "    # More code can be added here\n",
        "\n",
        "if __name__ == \"__main__\":\n",
        "    main()\n",
        "\n"
      ],
      "metadata": {
        "colab": {
          "base_uri": "https://localhost:8080/"
        },
        "id": "_verFvoLZdL0",
        "outputId": "ce2ae5b7-c67d-4d72-ef96-e6cbbf0bbf40"
      },
      "execution_count": 10,
      "outputs": [
        {
          "output_type": "stream",
          "name": "stderr",
          "text": [
            "DEBUG:root:This is a debug message\n",
            "INFO:root:This is an informational message\n"
          ]
        }
      ]
    },
    {
      "cell_type": "code",
      "source": [],
      "metadata": {
        "id": "J2Ox5SXfZe_6"
      },
      "execution_count": null,
      "outputs": []
    }
  ]
}