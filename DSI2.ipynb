{
  "nbformat": 4,
  "nbformat_minor": 0,
  "metadata": {
    "colab": {
      "provenance": [],
      "authorship_tag": "ABX9TyOsWsmHPhmeqtvq2XTqWpNx",
      "include_colab_link": true
    },
    "kernelspec": {
      "name": "python3",
      "display_name": "Python 3"
    },
    "language_info": {
      "name": "python"
    }
  },
  "cells": [
    {
      "cell_type": "markdown",
      "metadata": {
        "id": "view-in-github",
        "colab_type": "text"
      },
      "source": [
        "<a href=\"https://colab.research.google.com/github/rashettycode/UofT_DSI/blob/main/DSI2.ipynb\" target=\"_parent\"><img src=\"https://colab.research.google.com/assets/colab-badge.svg\" alt=\"Open In Colab\"/></a>"
      ]
    },
    {
      "cell_type": "code",
      "execution_count": 1,
      "metadata": {
        "colab": {
          "base_uri": "https://localhost:8080/"
        },
        "id": "rFDInMaDWMh7",
        "outputId": "1e4023a8-b2ec-4ac7-dca5-56b48bf938de"
      },
      "outputs": [
        {
          "output_type": "stream",
          "name": "stdout",
          "text": [
            "Error with 1st, trying 2nd\n",
            "success from 2nd API\n",
            "{'avatar_url': 'https://avatars.githubusercontent.com/u/152226050?v=4',\n",
            " 'bio': None,\n",
            " 'blog': '',\n",
            " 'company': 'RS',\n",
            " 'created_at': '2023-11-27T21:57:48Z',\n",
            " 'email': None,\n",
            " 'events_url': 'https://api.github.com/users/rashettycode/events{/privacy}',\n",
            " 'followers': 0,\n",
            " 'followers_url': 'https://api.github.com/users/rashettycode/followers',\n",
            " 'following': 1,\n",
            " 'following_url': 'https://api.github.com/users/rashettycode/following{/other_user}',\n",
            " 'gists_url': 'https://api.github.com/users/rashettycode/gists{/gist_id}',\n",
            " 'gravatar_id': '',\n",
            " 'hireable': None,\n",
            " 'html_url': 'https://github.com/rashettycode',\n",
            " 'id': 152226050,\n",
            " 'location': None,\n",
            " 'login': 'rashettycode',\n",
            " 'name': 'RaShe1',\n",
            " 'node_id': 'U_kgDOCRLJAg',\n",
            " 'organizations_url': 'https://api.github.com/users/rashettycode/orgs',\n",
            " 'public_gists': 0,\n",
            " 'public_repos': 7,\n",
            " 'received_events_url': 'https://api.github.com/users/rashettycode/received_events',\n",
            " 'repos_url': 'https://api.github.com/users/rashettycode/repos',\n",
            " 'site_admin': False,\n",
            " 'starred_url': 'https://api.github.com/users/rashettycode/starred{/owner}{/repo}',\n",
            " 'subscriptions_url': 'https://api.github.com/users/rashettycode/subscriptions',\n",
            " 'twitter_username': None,\n",
            " 'type': 'User',\n",
            " 'updated_at': '2024-01-06T00:28:51Z',\n",
            " 'url': 'https://api.github.com/users/rashettycode'}\n",
            "Username: rashettycode\n",
            "Name: RaShe1\n"
          ]
        }
      ],
      "source": [
        "\n",
        "import requests\n",
        "import json\n",
        "from pprint import pprint\n",
        "\n",
        "from google.colab import userdata\n",
        "\n",
        "\n",
        "def get_user_data() -> dict:\n",
        "  \"\"\" Get the authenticated user data object from GitHub.\n",
        "\n",
        "  Connect to the GitHub API and retrieve the authenticated users' data as Python dictionary.\n",
        "  The token is retrieved from the colab userdata system.\n",
        "\n",
        "  Parameters\n",
        "  ----------\n",
        "  None\n",
        "\n",
        "  Returns\n",
        "  -------\n",
        "  user_obj : dict\n",
        "    User data retrieved from GitHub\n",
        "\n",
        "  Examples\n",
        "  --------\n",
        "  user_obj = get_user_data()\n",
        "  pprint(user_obj)\n",
        "\n",
        "  {\n",
        "    'name': 'RASHE',\n",
        "    'login': 'rashettycode',\n",
        "    ...\n",
        "  }\n",
        "  \"\"\"\n",
        "\n",
        "  token = userdata.get('ghtoken')\n",
        "\n",
        "  main_api = 'https://pjfaoijeclawneoaiwjfeoiajwef.com'\n",
        "  backup_api = 'https://api.github.com'\n",
        "\n",
        "  try:\n",
        "    # get response from first API\n",
        "    response = requests.get(url=main_api + '/user',\n",
        "                            headers={'Authorization': 'Bearer ' + token})\n",
        "    print('success from first API')\n",
        "\n",
        "  except requests.exceptions.ConnectionError:\n",
        "    print('Error with 1st, trying 2nd')\n",
        "    # connection error to first API, let's try backup\n",
        "    response = requests.get(url=backup_api + '/user',\n",
        "                            headers={'Authorization': 'Bearer ' + token})\n",
        "    print('success from 2nd API')\n",
        "\n",
        "\n",
        "  # parse json\n",
        "  # response_json = json.loads(response.text)\n",
        "\n",
        "  return response.json()\n",
        "\n",
        "\n",
        "user_obj = get_user_data()\n",
        "\n",
        "pprint(user_obj)\n",
        "\n",
        "# print some values\n",
        "print('Username: ' + user_obj['login'])\n",
        "print('Name: ' + user_obj['name'])"
      ]
    }
  ]
}