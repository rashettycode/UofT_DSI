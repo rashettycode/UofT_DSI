{
  "nbformat": 4,
  "nbformat_minor": 0,
  "metadata": {
    "colab": {
      "provenance": [],
      "authorship_tag": "ABX9TyNz5TfeFARw3tg0+ooGgabz"
    },
    "kernelspec": {
      "name": "python3",
      "display_name": "Python 3"
    },
    "language_info": {
      "name": "python"
    }
  },
  "cells": [
    {
      "cell_type": "code",
      "source": [
        "!python hello_world.py --hello\n"
      ],
      "metadata": {
        "colab": {
          "base_uri": "https://localhost:8080/"
        },
        "id": "F5dCilFQR0uc",
        "outputId": "4410ed83-84a8-4d4c-f5af-1b64d6800c6e"
      },
      "execution_count": 15,
      "outputs": [
        {
          "output_type": "stream",
          "name": "stdout",
          "text": [
            "usage: hello_world.py [-h] [-r R] name\n",
            "hello_world.py: error: the following arguments are required: name\n"
          ]
        }
      ]
    },
    {
      "cell_type": "code",
      "source": [
        "!python hello_world.py hello"
      ],
      "metadata": {
        "colab": {
          "base_uri": "https://localhost:8080/"
        },
        "id": "7OygiFMASg1P",
        "outputId": "56f8096c-d6c7-49e4-8405-1c45333fc079"
      },
      "execution_count": 19,
      "outputs": [
        {
          "output_type": "stream",
          "name": "stdout",
          "text": [
            "Namespace(name='hello', r=2)\n",
            "hellohello!\n",
            "hellohello!\n"
          ]
        }
      ]
    },
    {
      "cell_type": "code",
      "source": [
        "!python hello_world.py world -r4\n"
      ],
      "metadata": {
        "colab": {
          "base_uri": "https://localhost:8080/"
        },
        "id": "V63wsTMwS-As",
        "outputId": "c480d63d-01be-4083-d1fa-088748684913"
      },
      "execution_count": 21,
      "outputs": [
        {
          "output_type": "stream",
          "name": "stdout",
          "text": [
            "Namespace(name='world', r=4)\n",
            "helloworld!\n",
            "helloworld!\n",
            "helloworld!\n",
            "helloworld!\n"
          ]
        }
      ]
    }
  ]
}